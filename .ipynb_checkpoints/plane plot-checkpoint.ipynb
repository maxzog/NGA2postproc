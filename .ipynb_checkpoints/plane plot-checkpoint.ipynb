{
 "cells": [
  {
   "cell_type": "code",
   "execution_count": 1,
   "id": "01aceb9d",
   "metadata": {},
   "outputs": [
    {
     "data": {
      "text/plain": [
       "unit_r (generic function with 1 method)"
      ]
     },
     "execution_count": 1,
     "metadata": {},
     "output_type": "execute_result"
    }
   ],
   "source": [
    "include(\"./src/build.jl\")"
   ]
  },
  {
   "cell_type": "code",
   "execution_count": 2,
   "id": "c682b43d",
   "metadata": {},
   "outputs": [
    {
     "data": {
      "text/plain": [
       "slice_lagrangian (generic function with 1 method)"
      ]
     },
     "execution_count": 2,
     "metadata": {},
     "output_type": "execute_result"
    }
   ],
   "source": [
    "function getXs(ps::Vector{part})\n",
    "    np=lastindex(ps)\n",
    "    x = zeros(Float32, np); y = zeros(Float32, np); z = zeros(Float32, np)\n",
    "    for i in 1:lastindex(ps)\n",
    "        x[i], y[i], z[i] = ps[i].pos\n",
    "    end\n",
    "    return x, y, z\n",
    "end\n",
    "\n",
    "function slice_lagrangian(ps::Vector{part}, plane::String, loc::Float32; w=Float32(0.1))\n",
    "    ids = zeros(Int, lastindex(ps))\n",
    "    for i in 1:lastindex(ps)\n",
    "        p = ps[i]\n",
    "        \n",
    "        if plane==\"x\"\n",
    "            if p.pos[1] < loc+w/2 && p.pos[1] > loc-w/2\n",
    "                ids[i] = p.id\n",
    "            end\n",
    "        end\n",
    "        if plane==\"y\"\n",
    "            if p.pos[2] < loc+w/2 && p.pos[2] > loc-w/2\n",
    "                ids[i] = p.id\n",
    "            end\n",
    "        end\n",
    "        if plane==\"z\"\n",
    "            if p.pos[3] < loc+w/2 && p.pos[3] > loc-w/2\n",
    "                ids[i] = p.id\n",
    "            end\n",
    "        end\n",
    "        \n",
    "    end\n",
    "    \n",
    "    c = sum([id==0 ? 0 : 1 for id in ids])\n",
    "    ids_slice = zeros(Int, c)\n",
    "    \n",
    "    ind = 1\n",
    "    for i in 1:lastindex(ps)\n",
    "        if ids[i] != 0\n",
    "            ids_slice[ind] = ids[i]\n",
    "            ind += 1\n",
    "        end\n",
    "    end\n",
    "    return ids_slice\n",
    "end"
   ]
  },
  {
   "cell_type": "code",
   "execution_count": 32,
   "id": "baec870e",
   "metadata": {},
   "outputs": [
    {
     "name": "stdout",
     "output_type": "stream",
     "text": [
      "Particle file opened successfully\n",
      "Particle file opened successfully\n",
      "Particle file opened successfully\n",
      "Particle file opened successfully\n"
     ]
    }
   ],
   "source": [
    "# ps  = get_parts(\"/Users/maxzog/cases/23_2_22/DNSensight/HIT/particles/\", 80);\n",
    "# x, y, z = getXs(ps);\n",
    "xl = readdlm(\"/Users/maxzog/cases/23_2_22/Xs_les/x\")\n",
    "yl = readdlm(\"/Users/maxzog/cases/23_2_22/Xs_les/y\")\n",
    "zl = readdlm(\"/Users/maxzog/cases/23_2_22/Xs_les/z\")\n",
    "println(\"Particle file opened successfully\")\n",
    "\n",
    "xd = readdlm(\"/Users/maxzog/cases/23_2_22/Xs_dns/x\")\n",
    "yd = readdlm(\"/Users/maxzog/cases/23_2_22/Xs_dns/y\")\n",
    "zd = readdlm(\"/Users/maxzog/cases/23_2_22/Xs_dns/z\")\n",
    "println(\"Particle file opened successfully\")\n",
    "\n",
    "xc = readdlm(\"/Users/maxzog/cases/23_2_22/Xs_crw/x\")\n",
    "yc = readdlm(\"/Users/maxzog/cases/23_2_22/Xs_crw/y\")\n",
    "zc = readdlm(\"/Users/maxzog/cases/23_2_22/Xs_crw/z\")\n",
    "println(\"Particle file opened successfully\")\n",
    "\n",
    "xs = readdlm(\"/Users/maxzog/cases/23_2_22/Xs_scrw/x\")\n",
    "ys = readdlm(\"/Users/maxzog/cases/23_2_22/Xs_scrw/y\")\n",
    "zs = readdlm(\"/Users/maxzog/cases/23_2_22/Xs_scrw/z\")\n",
    "println(\"Particle file opened successfully\")"
   ]
  },
  {
   "cell_type": "code",
   "execution_count": 6,
   "id": "e20793a7",
   "metadata": {},
   "outputs": [],
   "source": [
    "# 2D slice\n",
    "# ids = slice_lagrangian(ps, \"z\", Float32(3.14), w=Float32(.2))\n",
    "# x, y, z = getXs(ps[ids])\n",
    "\n",
    "x = readdlm(\"/Users/maxzog/cases/23_2_22/Xs_stk1_scrw/x\")\n",
    "y = readdlm(\"/Users/maxzog/cases/23_2_22/Xs_stk1_scrw/y\")\n",
    "\n",
    "# my_colors = [cgrad(:inferno, [0.01, 0.99])[z] for z ∈ range(0.0, 6.0, length = length(x))]\n",
    "# z = round.(reshape(readdlm(\"/Users/maxzog/cases/23_2_22/Xs_stk10/v\"), :), digits=2)\n",
    "\n",
    "plt = scatter(\n",
    "        x, y,# c=z, cmap=:balance,\n",
    "        markersize=1, markercolor=\"black\", α=1, \n",
    "        aspectratio=:equal, legend=:false, dpi=250,\n",
    "        xlims=(0,6.2832), ylims=(0,6.2832), axis=([], false))\n",
    "savefig(\"/Users/maxzog/Desktop/slice.png\")\n",
    "# display(plt)"
   ]
  },
  {
   "cell_type": "code",
   "execution_count": 29,
   "id": "a48c8f9d",
   "metadata": {},
   "outputs": [],
   "source": [
    "# 3D scatter\n",
    "plt = scatter(\n",
    "        x, y, z, \n",
    "        markersize=.4, markercolor=\"black\", α=0.1, \n",
    "        aspectratio=:equal, legend=:false,\n",
    "        dpi=300, xlabel=\"x\", ylabel=\"y\", zlabel=\"z\")#, axis=([], false))\n",
    "savefig(\"./img.png\")"
   ]
  },
  {
   "cell_type": "code",
   "execution_count": 9,
   "id": "dd3034d3",
   "metadata": {},
   "outputs": [
    {
     "data": {
      "text/plain": [
       "0.0007034905614571415"
      ]
     },
     "execution_count": 9,
     "metadata": {},
     "output_type": "execute_result"
    }
   ],
   "source": [
    "\n",
    "tke  = 15.7565\n",
    "L    = 6.2832\n",
    "eps  = 5*(2/3*tke)^1.5 / L\n",
    "nu   = 0.008\n",
    "teta = sqrt(nu/eps)\n",
    "stk  = .2\n",
    "\n",
    "dp = sqrt(18*nu*teta*stk/1000)\n",
    "\n"
   ]
  }
 ],
 "metadata": {
  "kernelspec": {
   "display_name": "Julia 1.7.1",
   "language": "julia",
   "name": "julia-1.7"
  },
  "language_info": {
   "file_extension": ".jl",
   "mimetype": "application/julia",
   "name": "julia",
   "version": "1.7.1"
  }
 },
 "nbformat": 4,
 "nbformat_minor": 5
}
